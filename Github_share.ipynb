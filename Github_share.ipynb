{
 "cells": [
  {
   "cell_type": "markdown",
   "id": "56f38195",
   "metadata": {},
   "source": [
    "\n",
    "**Github Share**\n"
   ]
  },
  {
   "cell_type": "markdown",
   "id": "0aac31bd",
   "metadata": {},
   "source": []
  }
 ],
 "metadata": {
  "language_info": {
   "name": "python"
  }
 },
 "nbformat": 4,
 "nbformat_minor": 5
}
